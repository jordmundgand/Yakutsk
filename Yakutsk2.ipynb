{
  "nbformat": 4,
  "nbformat_minor": 0,
  "metadata": {
    "colab": {
      "provenance": []
    },
    "kernelspec": {
      "name": "python3",
      "display_name": "Python 3"
    },
    "language_info": {
      "name": "python"
    }
  },
  "cells": [
    {
      "cell_type": "code",
      "execution_count": null,
      "metadata": {
        "id": "L8Q0OuVo6XSg"
      },
      "outputs": [],
      "source": [
        "!wget https://lodmedia.hb.bizmrg.com/case_files/868816/train_dataset_train.csv\n",
        "!wget https://lodmedia.hb.bizmrg.com/case_files/868816/test_dataset_test.csv\n",
        "!wget https://lodmedia.hb.bizmrg.com/cases/868816/%D0%AF%D0%BA%D1%83%D1%82%D1%81%D0%BA.zip\n",
        "!unzip /content/Якутск.zip"
      ]
    },
    {
      "cell_type": "code",
      "source": [
        "import time\n",
        "import os\n",
        "import shutil\n",
        "import pandas as pd\n",
        "import numpy as np\n",
        "import matplotlib.pyplot as plt\n",
        "import seaborn as sns\n",
        "from sklearn.cluster import dbscan,DBSCAN\n",
        "from sklearn.manifold import TSNE\n",
        "from sklearn.feature_extraction.text import TfidfTransformer, CountVectorizer, TfidfVectorizer\n",
        "from sklearn.linear_model import LinearRegression, LogisticRegression, SGDClassifier, SGDRegressor, RidgeClassifier, LogisticRegressionCV,Ridge,QuantileRegressor,PassiveAggressiveClassifier,PoissonRegressor\n",
        "from sklearn.ensemble import ExtraTreesRegressor,ExtraTreesClassifier,RandomForestClassifier,VotingClassifier,RandomForestRegressor,GradientBoostingClassifier,GradientBoostingRegressor,StackingRegressor,BaggingClassifier\n",
        "from sklearn.tree import DecisionTreeRegressor,DecisionTreeClassifier\n",
        "from sklearn.svm import LinearSVC,LinearSVR,SVR,NuSVR\n",
        "from sklearn.decomposition import TruncatedSVD,PCA,FactorAnalysis,IncrementalPCA,FastICA,KernelPCA,NMF\n",
        "from sklearn.preprocessing import RobustScaler,QuantileTransformer,PowerTransformer,PolynomialFeatures,KBinsDiscretizer,StandardScaler,OneHotEncoder,OrdinalEncoder,FunctionTransformer,MaxAbsScaler,MinMaxScaler\n",
        "from sklearn.model_selection import cross_val_score\n",
        "from sklearn.pipeline import Pipeline,FeatureUnion,TransformerMixin\n",
        "from sklearn.neighbors import KNeighborsClassifier,KNeighborsRegressor,LocalOutlierFactor\n",
        "from sklearn.model_selection import train_test_split,ShuffleSplit,StratifiedShuffleSplit,TimeSeriesSplit,GridSearchCV,KFold,StratifiedKFold\n",
        "from sklearn.feature_selection import SelectFromModel\n",
        "from sklearn.compose import ColumnTransformer\n",
        "from sklearn.impute import KNNImputer,SimpleImputer\n",
        "from sklearn.dummy import DummyRegressor,DummyClassifier\n",
        "from sklearn import set_config\n",
        "from sklearn.metrics import r2_score,mean_absolute_error,mean_squared_error,roc_auc_score,accuracy_score,f1_score,classification_report,recall_score,make_scorer"
      ],
      "metadata": {
        "id": "nIWqS_QT6rYV"
      },
      "execution_count": 3,
      "outputs": []
    },
    {
      "cell_type": "code",
      "source": [
        "# загрузка данных\n",
        "train=pd.read_csv('/content/train_dataset_train.csv')\n",
        "test=pd.read_csv('/content/test_dataset_test.csv')\n",
        "calls=pd.read_csv('/content/Calls.csv')\n",
        "connectiontime=pd.read_csv('/content/ConnectionTime.csv')\n",
        "education=pd.read_csv('/content/Education.csv')\n",
        "skud=pd.read_csv('/content/SKUD.csv')\n",
        "tasks=pd.read_csv('/content/Tasks.csv')\n",
        "timennetwork=pd.read_csv('/content/TimenNetwork.csv')\n",
        "workingday=pd.read_csv('/content/WorkingDay.csv')"
      ],
      "metadata": {
        "id": "HpOvgDFt6vFU"
      },
      "execution_count": null,
      "outputs": []
    },
    {
      "cell_type": "code",
      "source": [
        "# генерация переменных\n",
        "train.index=train.id\n",
        "\n",
        "train['CallTime']=calls['CallTime'].str.replace(',','.').astype('float').groupby(calls['id']).median()\n",
        "train['NumberOfCalls']=calls['NumberOfCalls'].groupby(calls['id']).median()\n",
        "train['Время опоздания']=connectiontime['Время опоздания'].str.replace(',','.').astype('float').fillna(0).groupby(connectiontime['id']).median()\n",
        "train['Длительность общая']=skud['Длительность общая'].str.replace(',','.').astype('float').fillna(0).groupby(skud['id']).median()\n",
        "train['Длительность раб.дня без обеда']=skud['Длительность раб.дня без обеда'].str.replace(',','.').astype('float').fillna(0).groupby(skud['id']).median()\n",
        "train['Просрочено, дней']=tasks['Просрочено, дней'].fillna(0).groupby(tasks['id']).median()\n",
        "train['monitor_Time']=timennetwork['monitor_Time'].fillna(0).groupby(timennetwork['id']).median()\n",
        "train['activeTime']=workingday['activeTime'].groupby(workingday['id']).median()\n",
        "train['monitorTime']=workingday['monitorTime'].groupby(workingday['id']).median()\n",
        "\n",
        "train['Вид учета времени']=calls['Вид учета времени'].astype('str').groupby(calls['id']).aggregate(' '.join)\n",
        "train['InOut']=calls['InOut'].groupby(calls['id']).aggregate(' '.join)\n",
        "train['Табельный номер руководителя']=education['Табельный номер руководителя'].astype('str').groupby(education['id']).aggregate(' '.join)\n",
        "train['Вид образования']=education['Вид образования'].astype('str').groupby(education['id']).aggregate(' '.join)\n",
        "train['Специальность']=education['Специальность'].astype('str').groupby(education['id']).aggregate(' '.join)\n",
        "train['Вид документа']=tasks['Вид документа'].astype('str').groupby(tasks['id']).aggregate(' '.join)\n",
        "train['Состояние задания']=tasks['Состояние задания'].astype('str').groupby(tasks['id']).aggregate(' '.join)\n",
        "\n",
        "train[['Вид учета времени','InOut','Вид образования','Специальность','Табельный номер руководителя','Вид документа','Состояние задания']]=train[[\n",
        "    'Вид учета времени','InOut','Вид образования','Специальность','Табельный номер руководителя','Вид документа','Состояние задания']].astype('str')\n",
        "train[['CallTime', 'NumberOfCalls', 'Время опоздания', \n",
        "       'Длительность общая', 'Длительность раб.дня без обеда', \n",
        "       'Просрочено, дней']]=train[['CallTime', 'NumberOfCalls', 'Время опоздания', \n",
        "       'Длительность общая', 'Длительность раб.дня без обеда', \n",
        "       'Просрочено, дней']].fillna(-1)"
      ],
      "metadata": {
        "id": "Sckg21Np7mH4"
      },
      "execution_count": 5,
      "outputs": []
    },
    {
      "cell_type": "code",
      "source": [
        "# генерация переменных\n",
        "test.index=test.id\n",
        "\n",
        "test['CallTime']=calls['CallTime'].str.replace(',','.').astype('float').groupby(calls['id']).median()\n",
        "test['NumberOfCalls']=calls['NumberOfCalls'].groupby(calls['id']).median()\n",
        "test['Время опоздания']=connectiontime['Время опоздания'].str.replace(',','.').astype('float').fillna(0).groupby(connectiontime['id']).median()\n",
        "test['Длительность общая']=skud['Длительность общая'].str.replace(',','.').astype('float').fillna(0).groupby(skud['id']).median()\n",
        "test['Длительность раб.дня без обеда']=skud['Длительность раб.дня без обеда'].str.replace(',','.').astype('float').fillna(0).groupby(skud['id']).median()\n",
        "test['Просрочено, дней']=tasks['Просрочено, дней'].fillna(0).groupby(tasks['id']).median()\n",
        "test['monitor_Time']=timennetwork['monitor_Time'].fillna(0).groupby(timennetwork['id']).median()\n",
        "test['activeTime']=workingday['activeTime'].groupby(workingday['id']).median()\n",
        "test['monitorTime']=workingday['monitorTime'].groupby(workingday['id']).median()\n",
        "\n",
        "test['Вид учета времени']=calls['Вид учета времени'].astype('str').groupby(calls['id']).aggregate(' '.join)\n",
        "test['InOut']=calls['InOut'].groupby(calls['id']).aggregate(' '.join)\n",
        "test['Табельный номер руководителя']=education['Табельный номер руководителя'].astype('str').groupby(education['id']).aggregate(' '.join)\n",
        "test['Вид образования']=education['Вид образования'].astype('str').groupby(education['id']).aggregate(' '.join)\n",
        "test['Специальность']=education['Специальность'].astype('str').groupby(education['id']).aggregate(' '.join)\n",
        "test['Вид документа']=tasks['Вид документа'].astype('str').groupby(tasks['id']).aggregate(' '.join)\n",
        "test['Состояние задания']=tasks['Состояние задания'].astype('str').groupby(tasks['id']).aggregate(' '.join)\n",
        "\n",
        "test[['Вид учета времени','InOut','Вид образования','Специальность','Табельный номер руководителя','Вид документа','Состояние задания']]=test[[\n",
        "    'Вид учета времени','InOut','Вид образования','Специальность','Табельный номер руководителя','Вид документа','Состояние задания']].astype('str')\n",
        "test[['CallTime', 'NumberOfCalls', 'Время опоздания', \n",
        "       'Длительность общая', 'Длительность раб.дня без обеда', \n",
        "       'Просрочено, дней']]=test[['CallTime', 'NumberOfCalls', 'Время опоздания', \n",
        "       'Длительность общая', 'Длительность раб.дня без обеда', \n",
        "       'Просрочено, дней']].fillna(-1)"
      ],
      "metadata": {
        "id": "8gH8vFZ-70bw"
      },
      "execution_count": 10,
      "outputs": []
    },
    {
      "cell_type": "code",
      "source": [
        "# модель\n",
        "pipe=Pipeline([('input',ColumnTransformer([\n",
        "               ('text3',CountVectorizer(),'Табельный номер руководителя'),\n",
        "               ('text6',CountVectorizer(),'Вид документа'),\n",
        "               ('disc',KBinsDiscretizer(n_bins=3, strategy='kmeans'),['CallTime','Длительность общая'])])),\n",
        "               ('tfidf',TfidfTransformer()),\n",
        "               ('fs',SelectFromModel(LinearSVC(C=1,class_weight='balanced'),threshold='0.1*mean')),\n",
        "               ('tfidf2',TfidfTransformer()),\n",
        "               ('classifier',LinearSVC(C=1,class_weight='balanced'))])"
      ],
      "metadata": {
        "id": "HktNuke270V7"
      },
      "execution_count": 8,
      "outputs": []
    },
    {
      "cell_type": "code",
      "source": [
        "# сохранение решения\n",
        "test['type']=pipe.fit(train,train['type']).predict(test)\n",
        "submit=test[['id','type']]\n",
        "submit.to_csv('submit.csv',index=False)"
      ],
      "metadata": {
        "id": "LVScqgrx70Pa"
      },
      "execution_count": 11,
      "outputs": []
    }
  ]
}